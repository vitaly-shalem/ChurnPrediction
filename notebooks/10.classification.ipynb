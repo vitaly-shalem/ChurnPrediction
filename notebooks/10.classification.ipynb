{
 "cells": [
  {
   "cell_type": "code",
   "execution_count": 2,
   "metadata": {},
   "outputs": [],
   "source": [
    "# Import of libraries\n",
    "import numpy as np \n",
    "import pandas as pd \n",
    "import matplotlib.pyplot as plt\n",
    "import seaborn as sns"
   ]
  },
  {
   "cell_type": "code",
   "execution_count": 3,
   "metadata": {},
   "outputs": [],
   "source": [
    "from sklearn.model_selection import train_test_split\n",
    "from sklearn.metrics import classification_report as CR\n",
    "from sklearn.preprocessing import StandardScaler\n",
    "from imblearn.over_sampling import RandomOverSampler\n",
    "\n",
    "pred_classes = ['Customers', 'Attrited']"
   ]
  },
  {
   "cell_type": "code",
   "execution_count": 4,
   "metadata": {},
   "outputs": [
    {
     "data": {
      "text/plain": [
       "(10127, 20)"
      ]
     },
     "execution_count": 4,
     "metadata": {},
     "output_type": "execute_result"
    }
   ],
   "source": [
    "# Load the data\n",
    "df = pd.read_csv(\"../data/BankChurners_CleanedMapped.csv\", index_col=\"ClientID\")\n",
    "df.shape"
   ]
  },
  {
   "cell_type": "code",
   "execution_count": 5,
   "metadata": {},
   "outputs": [
    {
     "data": {
      "text/plain": [
       "Attrited                                 int64\n",
       "Age                                      int64\n",
       "Gender                                   int64\n",
       "DependentCount                           int64\n",
       "EducationLevel                           int64\n",
       "MaritalStatus                            int64\n",
       "IncomeCategory                           int64\n",
       "CardCategory                             int64\n",
       "RelationshipPeriod_InMonths              int64\n",
       "TotalProductNo                           int64\n",
       "MonthsInactive_Last12Months              int64\n",
       "ContactNo_Last12Months                   int64\n",
       "CreditLimit                            float64\n",
       "TotalRevolvingBalance_CC                 int64\n",
       "OpenToBuyAve_Last12Months              float64\n",
       "TransactionAmount_ChangeQ4overQ1       float64\n",
       "TotalTransactionAmount_Last12Months      int64\n",
       "TotalTransactionCount_Last12Months       int64\n",
       "TransactionCount_ChangeQ4overQ1        float64\n",
       "AveCardUtilizationRatio                float64\n",
       "dtype: object"
      ]
     },
     "execution_count": 5,
     "metadata": {},
     "output_type": "execute_result"
    }
   ],
   "source": [
    "df.dtypes"
   ]
  },
  {
   "cell_type": "code",
   "execution_count": 6,
   "metadata": {},
   "outputs": [
    {
     "data": {
      "text/plain": [
       "(1627, 20)"
      ]
     },
     "metadata": {},
     "output_type": "display_data"
    },
    {
     "data": {
      "text/plain": [
       "(8500, 20)"
      ]
     },
     "metadata": {},
     "output_type": "display_data"
    }
   ],
   "source": [
    "df_attrited = df[df[\"Attrited\"] == 1]\n",
    "df_customers = df[df[\"Attrited\"] == 0]\n",
    "display(df_attrited.shape)\n",
    "display(df_customers.shape)"
   ]
  },
  {
   "cell_type": "code",
   "execution_count": 7,
   "metadata": {},
   "outputs": [],
   "source": [
    "X_a = df_attrited.drop('Attrited', axis=1) \n",
    "y_a = df_attrited['Attrited'] \n",
    "\n",
    "X_c = df_customers.drop('Attrited', axis=1) \n",
    "y_c = df_customers['Attrited'] "
   ]
  },
  {
   "cell_type": "code",
   "execution_count": 8,
   "metadata": {},
   "outputs": [],
   "source": [
    "X_a_train, X_a_test, y_a_train, y_a_test = train_test_split(X_a, y_a, test_size=0.2, random_state=1)\n",
    "X_c_train, X_c_test, y_c_train, y_c_test = train_test_split(X_c, y_c, test_size=0.2, random_state=1)"
   ]
  },
  {
   "cell_type": "code",
   "execution_count": 9,
   "metadata": {},
   "outputs": [],
   "source": [
    "X_train = pd.concat([X_c_train, X_a_train])\n",
    "y_train = pd.concat([y_c_train, y_a_train])\n",
    "\n",
    "X_test = pd.concat([X_c_test, X_a_test])\n",
    "y_test = pd.concat([y_c_test, y_a_test])"
   ]
  },
  {
   "cell_type": "code",
   "execution_count": 10,
   "metadata": {},
   "outputs": [],
   "source": [
    "# Scale the features\n",
    "scaler = StandardScaler().fit(X_train)\n",
    "\n",
    "X_train = scaler.transform(X_train)\n",
    "X_test = scaler.transform(X_test)\n"
   ]
  },
  {
   "cell_type": "code",
   "execution_count": 11,
   "metadata": {},
   "outputs": [
    {
     "name": "stdout",
     "output_type": "stream",
     "text": [
      "(8101, 19) >> (13600, 19)\n",
      "(8101,) >> (13600,)\n"
     ]
    }
   ],
   "source": [
    "ros = RandomOverSampler(random_state=1)\n",
    "X_train_res, y_train_res = ros.fit_resample(X_train, y_train)\n",
    "\n",
    "print(X_train.shape, \">>\", X_train_res.shape)\n",
    "print(y_train.shape, \">>\", y_train_res.shape)"
   ]
  },
  {
   "cell_type": "markdown",
   "metadata": {},
   "source": [
    "### Logistic regression"
   ]
  },
  {
   "cell_type": "code",
   "execution_count": 12,
   "metadata": {},
   "outputs": [
    {
     "name": "stdout",
     "output_type": "stream",
     "text": [
      "Train:  0.9086532526848538\n",
      "Test:   0.8928923988153998\n",
      "\n",
      "               precision    recall  f1-score   support\n",
      "\n",
      "   Customers       0.91      0.96      0.94      1700\n",
      "    Attrited       0.74      0.52      0.61       326\n",
      "\n",
      "    accuracy                           0.89      2026\n",
      "   macro avg       0.83      0.74      0.77      2026\n",
      "weighted avg       0.88      0.89      0.89      2026\n",
      "\n"
     ]
    }
   ],
   "source": [
    "# Import the model\n",
    "from sklearn.linear_model import LogisticRegression\n",
    "# Declare an instance and fit the model\n",
    "lrClassifier = LogisticRegression(solver='lbfgs').fit(X_train, y_train)\n",
    "# Score\n",
    "print(\"Train: \", lrClassifier.score(X_train, y_train))\n",
    "print(\"Test:  \", lrClassifier.score(X_test, y_test))\n",
    "# Predict\n",
    "y_predict = lrClassifier.predict(X_test)\n",
    "# Report\n",
    "report = CR(y_test, y_predict, target_names=pred_classes)\n",
    "print(\"\\n\", report)"
   ]
  },
  {
   "cell_type": "code",
   "execution_count": 13,
   "metadata": {},
   "outputs": [
    {
     "name": "stdout",
     "output_type": "stream",
     "text": [
      "Train:  0.8522794117647059\n",
      "Train:  0.8503888408838415\n",
      "Test:   0.8509378084896347\n",
      "\n",
      "               precision    recall  f1-score   support\n",
      "\n",
      "   Customers       0.96      0.86      0.91      1700\n",
      "    Attrited       0.52      0.81      0.64       326\n",
      "\n",
      "    accuracy                           0.85      2026\n",
      "   macro avg       0.74      0.83      0.77      2026\n",
      "weighted avg       0.89      0.85      0.86      2026\n",
      "\n"
     ]
    }
   ],
   "source": [
    "# Declare an instance and fit the model\n",
    "lrClassifier_RES = LogisticRegression(solver='lbfgs').fit(X_train_res, y_train_res)\n",
    "# Score\n",
    "print(\"Train: \", lrClassifier_RES.score(X_train_res, y_train_res))\n",
    "print(\"Train: \", lrClassifier_RES.score(X_train, y_train))\n",
    "print(\"Test:  \", lrClassifier_RES.score(X_test, y_test))\n",
    "# Predict\n",
    "y_predict_r = lrClassifier_RES.predict(X_test)\n",
    "# Report\n",
    "report_r = CR(y_test, y_predict_r, target_names=pred_classes)\n",
    "print(\"\\n\", report_r)"
   ]
  },
  {
   "cell_type": "markdown",
   "metadata": {},
   "source": [
    "### Random Forest"
   ]
  },
  {
   "cell_type": "code",
   "execution_count": 14,
   "metadata": {},
   "outputs": [
    {
     "name": "stdout",
     "output_type": "stream",
     "text": [
      "Train:  0.9222318232316998\n",
      "Test:   0.9146100691016782\n",
      "class_weight='balanced'\n",
      "Train:  0.9233427971855327\n",
      "Test:   0.9062191510365252\n",
      "\n",
      "               precision    recall  f1-score   support\n",
      "\n",
      "   Customers       0.92      0.98      0.95      1700\n",
      "    Attrited       0.86      0.56      0.68       326\n",
      "\n",
      "    accuracy                           0.91      2026\n",
      "   macro avg       0.89      0.77      0.81      2026\n",
      "weighted avg       0.91      0.91      0.91      2026\n",
      "\n",
      "\n",
      "               precision    recall  f1-score   support\n",
      "\n",
      "   Customers       0.97      0.91      0.94      1700\n",
      "    Attrited       0.66      0.87      0.75       326\n",
      "\n",
      "    accuracy                           0.91      2026\n",
      "   macro avg       0.82      0.89      0.85      2026\n",
      "weighted avg       0.92      0.91      0.91      2026\n",
      "\n"
     ]
    }
   ],
   "source": [
    "from sklearn.ensemble import RandomForestClassifier as RFC\n",
    "rfClassifier = RFC(\n",
    "    n_estimators=100, max_depth=5, random_state=1\n",
    ").fit(X_train, y_train)\n",
    "\n",
    "rfClassifier_Weighted = RFC(\n",
    "    n_estimators=100, max_depth=5, bootstrap=True, class_weight=\"balanced\", random_state=1\n",
    ").fit(X_train, y_train)\n",
    "\n",
    "# Score\n",
    "print(\"Train: \", rfClassifier.score(X_train, y_train))\n",
    "print(\"Test:  \", rfClassifier.score(X_test, y_test))\n",
    "\n",
    "print(\"class_weight='balanced'\")\n",
    "print(\"Train: \", rfClassifier_Weighted.score(X_train, y_train))\n",
    "print(\"Test:  \", rfClassifier_Weighted.score(X_test, y_test))\n",
    "\n",
    "# Predict\n",
    "y_predict = rfClassifier.predict(X_test)\n",
    "y_predict_w = rfClassifier_Weighted.predict(X_test)\n",
    "\n",
    "# Report\n",
    "report = CR(y_test, y_predict, target_names=pred_classes)\n",
    "print(\"\\n\", report)\n",
    "\n",
    "report_w = CR(y_test, y_predict_w, target_names=pred_classes)\n",
    "print(\"\\n\", report_w)"
   ]
  },
  {
   "cell_type": "code",
   "execution_count": 15,
   "metadata": {},
   "outputs": [
    {
     "name": "stdout",
     "output_type": "stream",
     "text": [
      "Train:  0.9199264705882353\n",
      "Train:  0.9065547463276139\n",
      "Test:   0.8923988153998026\n",
      "\n",
      "               precision    recall  f1-score   support\n",
      "\n",
      "   Customers       0.97      0.90      0.93      1700\n",
      "    Attrited       0.62      0.88      0.72       326\n",
      "\n",
      "    accuracy                           0.89      2026\n",
      "   macro avg       0.80      0.89      0.83      2026\n",
      "weighted avg       0.92      0.89      0.90      2026\n",
      "\n"
     ]
    }
   ],
   "source": [
    "rfClassifier_RES = RFC(\n",
    "    n_estimators=100, max_depth=5, random_state=1\n",
    ").fit(X_train_res, y_train_res)\n",
    "\n",
    "print(\"Train: \", rfClassifier_RES.score(X_train_res, y_train_res))\n",
    "print(\"Train: \", rfClassifier_RES.score(X_train, y_train))\n",
    "print(\"Test:  \", rfClassifier_RES.score(X_test, y_test))\n",
    "\n",
    "y_predict_r = rfClassifier_RES.predict(X_test)\n",
    "\n",
    "report_r = CR(y_test, y_predict_r, target_names=pred_classes)\n",
    "print(\"\\n\", report_r)"
   ]
  }
 ],
 "metadata": {
  "kernelspec": {
   "display_name": "_project_env",
   "language": "python",
   "name": "python3"
  },
  "language_info": {
   "codemirror_mode": {
    "name": "ipython",
    "version": 3
   },
   "file_extension": ".py",
   "mimetype": "text/x-python",
   "name": "python",
   "nbconvert_exporter": "python",
   "pygments_lexer": "ipython3",
   "version": "3.11.3"
  },
  "orig_nbformat": 4
 },
 "nbformat": 4,
 "nbformat_minor": 2
}
