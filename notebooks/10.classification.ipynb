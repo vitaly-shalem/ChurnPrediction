{
 "cells": [
  {
   "cell_type": "markdown",
   "metadata": {},
   "source": [
    "## Train and test classificartion models\n",
    "\n",
    "### Import libraries"
   ]
  },
  {
   "cell_type": "code",
   "execution_count": 17,
   "metadata": {},
   "outputs": [],
   "source": [
    "import sys\n",
    "import os\n",
    "sys.path.insert(0, os.path.abspath('../'))\n",
    "from src.classification import *"
   ]
  },
  {
   "cell_type": "markdown",
   "metadata": {},
   "source": [
    "### Define prediction classes variable (list)"
   ]
  },
  {
   "cell_type": "code",
   "execution_count": 18,
   "metadata": {},
   "outputs": [],
   "source": [
    "pred_classes = ['Customers', 'Attrited']"
   ]
  },
  {
   "cell_type": "markdown",
   "metadata": {},
   "source": [
    "### Load data"
   ]
  },
  {
   "cell_type": "code",
   "execution_count": 19,
   "metadata": {},
   "outputs": [
    {
     "data": {
      "text/plain": [
       "(10127, 20)"
      ]
     },
     "execution_count": 19,
     "metadata": {},
     "output_type": "execute_result"
    }
   ],
   "source": [
    "# Load the data\n",
    "df = pd.read_csv(\"../data/BankChurners_CleanedMapped.csv\", index_col=\"ClientID\")\n",
    "df.shape"
   ]
  },
  {
   "cell_type": "code",
   "execution_count": 20,
   "metadata": {},
   "outputs": [],
   "source": [
    "column_names = list(df.columns)\n",
    "#column_names"
   ]
  },
  {
   "cell_type": "markdown",
   "metadata": {},
   "source": [
    "####  Prepare data\n",
    "##### Split data to train/test, features/target"
   ]
  },
  {
   "cell_type": "code",
   "execution_count": 21,
   "metadata": {},
   "outputs": [],
   "source": [
    "X_train, X_test, y_train, y_test = clean_split_data(df, column_names)"
   ]
  },
  {
   "cell_type": "markdown",
   "metadata": {},
   "source": [
    "#####  Scale features"
   ]
  },
  {
   "cell_type": "code",
   "execution_count": 22,
   "metadata": {},
   "outputs": [],
   "source": [
    "X_train, X_test = scale_classification_data(X_train, X_test)"
   ]
  },
  {
   "cell_type": "markdown",
   "metadata": {},
   "source": [
    "### Logistic Regression Classifier"
   ]
  },
  {
   "cell_type": "code",
   "execution_count": 23,
   "metadata": {},
   "outputs": [
    {
     "name": "stdout",
     "output_type": "stream",
     "text": [
      "Train:       0.9086532526848538\n",
      "Test:        0.8928923988153998\n",
      "\n",
      "               precision    recall  f1-score   support\n",
      "\n",
      "   Customers       0.91      0.96      0.94      1700\n",
      "    Attrited       0.74      0.52      0.61       326\n",
      "\n",
      "    accuracy                           0.89      2026\n",
      "   macro avg       0.83      0.74      0.77      2026\n",
      "weighted avg       0.88      0.89      0.89      2026\n",
      "\n"
     ]
    }
   ],
   "source": [
    "lrClassifier, report = fit_and_test_LR_classifier(X_train, X_test, y_train, y_test, pred_classes, ros=False)\n",
    "print(\"\\n\", report)"
   ]
  },
  {
   "cell_type": "markdown",
   "metadata": {},
   "source": [
    "#### LR Classifier w/ OverSampling"
   ]
  },
  {
   "cell_type": "code",
   "execution_count": 24,
   "metadata": {},
   "outputs": [
    {
     "name": "stdout",
     "output_type": "stream",
     "text": [
      "Train(ros):  0.8522794117647059\n",
      "Train:       0.8503888408838415\n",
      "Test:        0.8509378084896347\n",
      "\n",
      "               precision    recall  f1-score   support\n",
      "\n",
      "   Customers       0.96      0.86      0.91      1700\n",
      "    Attrited       0.52      0.81      0.64       326\n",
      "\n",
      "    accuracy                           0.85      2026\n",
      "   macro avg       0.74      0.83      0.77      2026\n",
      "weighted avg       0.89      0.85      0.86      2026\n",
      "\n"
     ]
    }
   ],
   "source": [
    "lrClassifier_ros, report = fit_and_test_LR_classifier(X_train, X_test, y_train, y_test, pred_classes, ros=True)\n",
    "print(\"\\n\", report)"
   ]
  },
  {
   "cell_type": "markdown",
   "metadata": {},
   "source": [
    "### Random Forest Classifier"
   ]
  },
  {
   "cell_type": "code",
   "execution_count": 25,
   "metadata": {},
   "outputs": [
    {
     "name": "stdout",
     "output_type": "stream",
     "text": [
      "Train:       0.9222318232316998\n",
      "Test:        0.9146100691016782\n",
      "\n",
      "               precision    recall  f1-score   support\n",
      "\n",
      "   Customers       0.92      0.98      0.95      1700\n",
      "    Attrited       0.86      0.56      0.68       326\n",
      "\n",
      "    accuracy                           0.91      2026\n",
      "   macro avg       0.89      0.77      0.81      2026\n",
      "weighted avg       0.91      0.91      0.91      2026\n",
      "\n"
     ]
    }
   ],
   "source": [
    "rfClassifier, report = fit_and_test_RF_classifier(X_train, X_test, y_train, y_test, pred_classes)\n",
    "print(\"\\n\", report)"
   ]
  },
  {
   "cell_type": "markdown",
   "metadata": {},
   "source": [
    "#### RF Classifier w/ OverSampling"
   ]
  },
  {
   "cell_type": "code",
   "execution_count": 26,
   "metadata": {},
   "outputs": [
    {
     "name": "stdout",
     "output_type": "stream",
     "text": [
      "Train(ros):  0.9199264705882353\n",
      "Train:       0.9065547463276139\n",
      "Test:        0.8923988153998026\n",
      "\n",
      "               precision    recall  f1-score   support\n",
      "\n",
      "   Customers       0.97      0.90      0.93      1700\n",
      "    Attrited       0.62      0.88      0.72       326\n",
      "\n",
      "    accuracy                           0.89      2026\n",
      "   macro avg       0.80      0.89      0.83      2026\n",
      "weighted avg       0.92      0.89      0.90      2026\n",
      "\n"
     ]
    }
   ],
   "source": [
    "rfClassifier_ros, report = fit_and_test_RF_classifier(X_train, X_test, y_train, y_test, pred_classes, ros=True)\n",
    "print(\"\\n\", report)"
   ]
  },
  {
   "cell_type": "markdown",
   "metadata": {},
   "source": [
    "#### RF Classifier w/ balancing parameter"
   ]
  },
  {
   "cell_type": "code",
   "execution_count": 27,
   "metadata": {},
   "outputs": [
    {
     "name": "stdout",
     "output_type": "stream",
     "text": [
      "Train:       0.9233427971855327\n",
      "Test:        0.9062191510365252\n",
      "\n",
      "               precision    recall  f1-score   support\n",
      "\n",
      "   Customers       0.97      0.91      0.94      1700\n",
      "    Attrited       0.66      0.87      0.75       326\n",
      "\n",
      "    accuracy                           0.91      2026\n",
      "   macro avg       0.82      0.89      0.85      2026\n",
      "weighted avg       0.92      0.91      0.91      2026\n",
      "\n"
     ]
    }
   ],
   "source": [
    "rfClassifier_rfb, report = fit_and_test_RF_classifier(X_train, X_test, y_train, y_test, pred_classes, rfb=True)\n",
    "print(\"\\n\", report)"
   ]
  },
  {
   "cell_type": "markdown",
   "metadata": {},
   "source": [
    "##### ... extract feature importance and trim feature list"
   ]
  },
  {
   "cell_type": "code",
   "execution_count": 28,
   "metadata": {},
   "outputs": [
    {
     "data": {
      "text/html": [
       "<div>\n",
       "<style scoped>\n",
       "    .dataframe tbody tr th:only-of-type {\n",
       "        vertical-align: middle;\n",
       "    }\n",
       "\n",
       "    .dataframe tbody tr th {\n",
       "        vertical-align: top;\n",
       "    }\n",
       "\n",
       "    .dataframe thead th {\n",
       "        text-align: right;\n",
       "    }\n",
       "</style>\n",
       "<table border=\"1\" class=\"dataframe\">\n",
       "  <thead>\n",
       "    <tr style=\"text-align: right;\">\n",
       "      <th></th>\n",
       "      <th>Feature</th>\n",
       "      <th>Score</th>\n",
       "    </tr>\n",
       "  </thead>\n",
       "  <tbody>\n",
       "    <tr>\n",
       "      <th>8</th>\n",
       "      <td>TotalProductNo</td>\n",
       "      <td>0.039031</td>\n",
       "    </tr>\n",
       "    <tr>\n",
       "      <th>9</th>\n",
       "      <td>MonthsInactive_Last12Months</td>\n",
       "      <td>0.023668</td>\n",
       "    </tr>\n",
       "    <tr>\n",
       "      <th>10</th>\n",
       "      <td>ContactNo_Last12Months</td>\n",
       "      <td>0.020910</td>\n",
       "    </tr>\n",
       "    <tr>\n",
       "      <th>12</th>\n",
       "      <td>TotalRevolvingBalance_CC</td>\n",
       "      <td>0.145714</td>\n",
       "    </tr>\n",
       "    <tr>\n",
       "      <th>14</th>\n",
       "      <td>TransactionAmount_ChangeQ4overQ1</td>\n",
       "      <td>0.053934</td>\n",
       "    </tr>\n",
       "    <tr>\n",
       "      <th>15</th>\n",
       "      <td>TotalTransactionAmount_Last12Months</td>\n",
       "      <td>0.186734</td>\n",
       "    </tr>\n",
       "    <tr>\n",
       "      <th>16</th>\n",
       "      <td>TotalTransactionCount_Last12Months</td>\n",
       "      <td>0.304737</td>\n",
       "    </tr>\n",
       "    <tr>\n",
       "      <th>17</th>\n",
       "      <td>TransactionCount_ChangeQ4overQ1</td>\n",
       "      <td>0.088953</td>\n",
       "    </tr>\n",
       "    <tr>\n",
       "      <th>18</th>\n",
       "      <td>AveCardUtilizationRatio</td>\n",
       "      <td>0.089375</td>\n",
       "    </tr>\n",
       "  </tbody>\n",
       "</table>\n",
       "</div>"
      ],
      "text/plain": [
       "                                Feature     Score\n",
       "8                        TotalProductNo  0.039031\n",
       "9           MonthsInactive_Last12Months  0.023668\n",
       "10               ContactNo_Last12Months  0.020910\n",
       "12             TotalRevolvingBalance_CC  0.145714\n",
       "14     TransactionAmount_ChangeQ4overQ1  0.053934\n",
       "15  TotalTransactionAmount_Last12Months  0.186734\n",
       "16   TotalTransactionCount_Last12Months  0.304737\n",
       "17      TransactionCount_ChangeQ4overQ1  0.088953\n",
       "18              AveCardUtilizationRatio  0.089375"
      ]
     },
     "metadata": {},
     "output_type": "display_data"
    }
   ],
   "source": [
    "threshold = 0.02\n",
    "important_features = fit_RF_classifier_and_reduce_features(X_train, y_train, column_names, threshold)\n",
    "display(important_features)"
   ]
  },
  {
   "cell_type": "code",
   "execution_count": 29,
   "metadata": {},
   "outputs": [
    {
     "data": {
      "text/plain": [
       "['Attrited',\n",
       " 'TotalProductNo',\n",
       " 'MonthsInactive_Last12Months',\n",
       " 'ContactNo_Last12Months',\n",
       " 'TotalRevolvingBalance_CC',\n",
       " 'TransactionAmount_ChangeQ4overQ1',\n",
       " 'TotalTransactionAmount_Last12Months',\n",
       " 'TotalTransactionCount_Last12Months',\n",
       " 'TransactionCount_ChangeQ4overQ1',\n",
       " 'AveCardUtilizationRatio']"
      ]
     },
     "metadata": {},
     "output_type": "display_data"
    }
   ],
   "source": [
    "column_names_important_features = [\"Attrited\"] + list(important_features[\"Feature\"])\n",
    "display(column_names_important_features)"
   ]
  },
  {
   "cell_type": "markdown",
   "metadata": {},
   "source": [
    "### Retrain Random Forest w/ only Important Features "
   ]
  },
  {
   "cell_type": "code",
   "execution_count": 30,
   "metadata": {},
   "outputs": [],
   "source": [
    "X_train, X_test, y_train, y_test = clean_split_data(df, column_names_important_features)\n",
    "X_train, X_test = scale_classification_data(X_train, X_test)"
   ]
  },
  {
   "cell_type": "code",
   "execution_count": 31,
   "metadata": {},
   "outputs": [
    {
     "name": "stdout",
     "output_type": "stream",
     "text": [
      "Train:       0.9300086409085299\n",
      "Test:        0.9131293188548865\n",
      "\n",
      "               precision    recall  f1-score   support\n",
      "\n",
      "   Customers       0.98      0.92      0.95      1700\n",
      "    Attrited       0.67      0.90      0.77       326\n",
      "\n",
      "    accuracy                           0.91      2026\n",
      "   macro avg       0.83      0.91      0.86      2026\n",
      "weighted avg       0.93      0.91      0.92      2026\n",
      "\n"
     ]
    }
   ],
   "source": [
    "rfClassifier_rf_rfb, report = fit_and_test_RF_classifier(X_train, X_test, y_train, y_test, pred_classes, rfb=True)\n",
    "print(\"\\n\", report)"
   ]
  }
 ],
 "metadata": {
  "kernelspec": {
   "display_name": "_project_env",
   "language": "python",
   "name": "python3"
  },
  "language_info": {
   "codemirror_mode": {
    "name": "ipython",
    "version": 3
   },
   "file_extension": ".py",
   "mimetype": "text/x-python",
   "name": "python",
   "nbconvert_exporter": "python",
   "pygments_lexer": "ipython3",
   "version": "3.11.3"
  },
  "orig_nbformat": 4
 },
 "nbformat": 4,
 "nbformat_minor": 2
}
