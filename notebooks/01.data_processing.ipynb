{
 "cells": [
  {
   "cell_type": "markdown",
   "metadata": {},
   "source": [
    "### Credit Card customers: Data cleanup and mapping"
   ]
  },
  {
   "cell_type": "code",
   "execution_count": 1,
   "metadata": {},
   "outputs": [],
   "source": [
    "import numpy as np\n",
    "import pandas as pd\n",
    "\n",
    "import matplotlib.pyplot as plt\n",
    "import seaborn as sns"
   ]
  },
  {
   "cell_type": "markdown",
   "metadata": {},
   "source": [
    "#### Load and explore the data"
   ]
  },
  {
   "cell_type": "code",
   "execution_count": 2,
   "metadata": {},
   "outputs": [
    {
     "data": {
      "text/plain": [
       "(10127, 23)"
      ]
     },
     "execution_count": 2,
     "metadata": {},
     "output_type": "execute_result"
    }
   ],
   "source": [
    "df = pd.read_csv(\"../data/BankChurners.csv\")\n",
    "df.shape"
   ]
  },
  {
   "cell_type": "code",
   "execution_count": 3,
   "metadata": {},
   "outputs": [],
   "source": [
    "dRenameColumns = {\n",
    "    'CLIENTNUM': 'ClientID', \n",
    "    'Attrition_Flag': 'Attrited', \n",
    "    'Customer_Age': 'Age', \n",
    "    'Gender': 'Gender',\n",
    "    'Dependent_count': 'DependentCount', \n",
    "    'Education_Level': 'EducationLevel', \n",
    "    'Marital_Status': 'MaritalStatus',\n",
    "    'Income_Category': 'IncomeCategory', \n",
    "    'Card_Category': 'CardCategory', \n",
    "    'Months_on_book': 'RelationshipPeriod_InMonths',\n",
    "    'Total_Relationship_Count': 'TotalProductNo', \n",
    "    'Months_Inactive_12_mon': 'MonthsInactive_Last12Months',\n",
    "    'Contacts_Count_12_mon': 'ContactNo_Last12Months', \n",
    "    'Credit_Limit': 'CreditLimit', \n",
    "    'Total_Revolving_Bal': 'TotalRevolvingBalance_CC',\n",
    "    'Avg_Open_To_Buy': 'OpenToBuyAve_Last12Months', \n",
    "    'Total_Amt_Chng_Q4_Q1': 'TransactionAmount_ChangeQ4overQ1', \n",
    "    'Total_Trans_Amt': 'TotalTransactionAmount_Last12Months',\n",
    "    'Total_Trans_Ct': 'TotalTransactionCount_Last12Months', \n",
    "    'Total_Ct_Chng_Q4_Q1': 'TransactionCount_ChangeQ4overQ1', \n",
    "    'Avg_Utilization_Ratio': 'AveCardUtilizationRatio',\n",
    "    'Naive_Bayes_Classifier_Attrition_Flag_Card_Category_Contacts_Count_12_mon_Dependent_count_Education_Level_Months_Inactive_12_mon_1': 'NBCAF1',\n",
    "    'Naive_Bayes_Classifier_Attrition_Flag_Card_Category_Contacts_Count_12_mon_Dependent_count_Education_Level_Months_Inactive_12_mon_2': 'NBCAF2'\n",
    "}\n",
    "df = df.rename(columns=dRenameColumns)"
   ]
  },
  {
   "cell_type": "markdown",
   "metadata": {},
   "source": [
    "#### Drop some columns"
   ]
  },
  {
   "cell_type": "code",
   "execution_count": 4,
   "metadata": {},
   "outputs": [],
   "source": [
    "df = df.drop(['NBCAF1', 'NBCAF2'], axis=1)"
   ]
  },
  {
   "cell_type": "code",
   "execution_count": 5,
   "metadata": {},
   "outputs": [
    {
     "data": {
      "text/plain": [
       "Index(['ClientID', 'Attrited', 'Age', 'Gender', 'DependentCount',\n",
       "       'EducationLevel', 'MaritalStatus', 'IncomeCategory', 'CardCategory',\n",
       "       'RelationshipPeriod_InMonths', 'TotalProductNo',\n",
       "       'MonthsInactive_Last12Months', 'ContactNo_Last12Months', 'CreditLimit',\n",
       "       'TotalRevolvingBalance_CC', 'OpenToBuyAve_Last12Months',\n",
       "       'TransactionAmount_ChangeQ4overQ1',\n",
       "       'TotalTransactionAmount_Last12Months',\n",
       "       'TotalTransactionCount_Last12Months', 'TransactionCount_ChangeQ4overQ1',\n",
       "       'AveCardUtilizationRatio'],\n",
       "      dtype='object')"
      ]
     },
     "execution_count": 5,
     "metadata": {},
     "output_type": "execute_result"
    }
   ],
   "source": [
    "df.columns"
   ]
  },
  {
   "cell_type": "markdown",
   "metadata": {},
   "source": [
    "#### Check for NULL values"
   ]
  },
  {
   "cell_type": "code",
   "execution_count": 6,
   "metadata": {},
   "outputs": [
    {
     "data": {
      "text/plain": [
       "ClientID                               0\n",
       "Attrited                               0\n",
       "Age                                    0\n",
       "Gender                                 0\n",
       "DependentCount                         0\n",
       "EducationLevel                         0\n",
       "MaritalStatus                          0\n",
       "IncomeCategory                         0\n",
       "CardCategory                           0\n",
       "RelationshipPeriod_InMonths            0\n",
       "TotalProductNo                         0\n",
       "MonthsInactive_Last12Months            0\n",
       "ContactNo_Last12Months                 0\n",
       "CreditLimit                            0\n",
       "TotalRevolvingBalance_CC               0\n",
       "OpenToBuyAve_Last12Months              0\n",
       "TransactionAmount_ChangeQ4overQ1       0\n",
       "TotalTransactionAmount_Last12Months    0\n",
       "TotalTransactionCount_Last12Months     0\n",
       "TransactionCount_ChangeQ4overQ1        0\n",
       "AveCardUtilizationRatio                0\n",
       "dtype: int64"
      ]
     },
     "execution_count": 6,
     "metadata": {},
     "output_type": "execute_result"
    }
   ],
   "source": [
    "df.isna().sum()"
   ]
  },
  {
   "cell_type": "code",
   "execution_count": 7,
   "metadata": {},
   "outputs": [
    {
     "data": {
      "text/plain": [
       "ClientID                                 int64\n",
       "Attrited                                object\n",
       "Age                                      int64\n",
       "Gender                                  object\n",
       "DependentCount                           int64\n",
       "EducationLevel                          object\n",
       "MaritalStatus                           object\n",
       "IncomeCategory                          object\n",
       "CardCategory                            object\n",
       "RelationshipPeriod_InMonths              int64\n",
       "TotalProductNo                           int64\n",
       "MonthsInactive_Last12Months              int64\n",
       "ContactNo_Last12Months                   int64\n",
       "CreditLimit                            float64\n",
       "TotalRevolvingBalance_CC                 int64\n",
       "OpenToBuyAve_Last12Months              float64\n",
       "TransactionAmount_ChangeQ4overQ1       float64\n",
       "TotalTransactionAmount_Last12Months      int64\n",
       "TotalTransactionCount_Last12Months       int64\n",
       "TransactionCount_ChangeQ4overQ1        float64\n",
       "AveCardUtilizationRatio                float64\n",
       "dtype: object"
      ]
     },
     "execution_count": 7,
     "metadata": {},
     "output_type": "execute_result"
    }
   ],
   "source": [
    "df.dtypes"
   ]
  },
  {
   "cell_type": "code",
   "execution_count": 8,
   "metadata": {},
   "outputs": [
    {
     "data": {
      "text/html": [
       "<div>\n",
       "<style scoped>\n",
       "    .dataframe tbody tr th:only-of-type {\n",
       "        vertical-align: middle;\n",
       "    }\n",
       "\n",
       "    .dataframe tbody tr th {\n",
       "        vertical-align: top;\n",
       "    }\n",
       "\n",
       "    .dataframe thead th {\n",
       "        text-align: right;\n",
       "    }\n",
       "</style>\n",
       "<table border=\"1\" class=\"dataframe\">\n",
       "  <thead>\n",
       "    <tr style=\"text-align: right;\">\n",
       "      <th></th>\n",
       "      <th>ClientID</th>\n",
       "      <th>Attrited</th>\n",
       "      <th>Age</th>\n",
       "      <th>Gender</th>\n",
       "      <th>DependentCount</th>\n",
       "      <th>EducationLevel</th>\n",
       "      <th>MaritalStatus</th>\n",
       "      <th>IncomeCategory</th>\n",
       "      <th>CardCategory</th>\n",
       "      <th>RelationshipPeriod_InMonths</th>\n",
       "      <th>...</th>\n",
       "      <th>MonthsInactive_Last12Months</th>\n",
       "      <th>ContactNo_Last12Months</th>\n",
       "      <th>CreditLimit</th>\n",
       "      <th>TotalRevolvingBalance_CC</th>\n",
       "      <th>OpenToBuyAve_Last12Months</th>\n",
       "      <th>TransactionAmount_ChangeQ4overQ1</th>\n",
       "      <th>TotalTransactionAmount_Last12Months</th>\n",
       "      <th>TotalTransactionCount_Last12Months</th>\n",
       "      <th>TransactionCount_ChangeQ4overQ1</th>\n",
       "      <th>AveCardUtilizationRatio</th>\n",
       "    </tr>\n",
       "  </thead>\n",
       "  <tbody>\n",
       "    <tr>\n",
       "      <th>0</th>\n",
       "      <td>768805383</td>\n",
       "      <td>Existing Customer</td>\n",
       "      <td>45</td>\n",
       "      <td>M</td>\n",
       "      <td>3</td>\n",
       "      <td>High School</td>\n",
       "      <td>Married</td>\n",
       "      <td>$60K - $80K</td>\n",
       "      <td>Blue</td>\n",
       "      <td>39</td>\n",
       "      <td>...</td>\n",
       "      <td>1</td>\n",
       "      <td>3</td>\n",
       "      <td>12691.0</td>\n",
       "      <td>777</td>\n",
       "      <td>11914.0</td>\n",
       "      <td>1.335</td>\n",
       "      <td>1144</td>\n",
       "      <td>42</td>\n",
       "      <td>1.625</td>\n",
       "      <td>0.061</td>\n",
       "    </tr>\n",
       "    <tr>\n",
       "      <th>1</th>\n",
       "      <td>818770008</td>\n",
       "      <td>Existing Customer</td>\n",
       "      <td>49</td>\n",
       "      <td>F</td>\n",
       "      <td>5</td>\n",
       "      <td>Graduate</td>\n",
       "      <td>Single</td>\n",
       "      <td>Less than $40K</td>\n",
       "      <td>Blue</td>\n",
       "      <td>44</td>\n",
       "      <td>...</td>\n",
       "      <td>1</td>\n",
       "      <td>2</td>\n",
       "      <td>8256.0</td>\n",
       "      <td>864</td>\n",
       "      <td>7392.0</td>\n",
       "      <td>1.541</td>\n",
       "      <td>1291</td>\n",
       "      <td>33</td>\n",
       "      <td>3.714</td>\n",
       "      <td>0.105</td>\n",
       "    </tr>\n",
       "    <tr>\n",
       "      <th>2</th>\n",
       "      <td>713982108</td>\n",
       "      <td>Existing Customer</td>\n",
       "      <td>51</td>\n",
       "      <td>M</td>\n",
       "      <td>3</td>\n",
       "      <td>Graduate</td>\n",
       "      <td>Married</td>\n",
       "      <td>$80K - $120K</td>\n",
       "      <td>Blue</td>\n",
       "      <td>36</td>\n",
       "      <td>...</td>\n",
       "      <td>1</td>\n",
       "      <td>0</td>\n",
       "      <td>3418.0</td>\n",
       "      <td>0</td>\n",
       "      <td>3418.0</td>\n",
       "      <td>2.594</td>\n",
       "      <td>1887</td>\n",
       "      <td>20</td>\n",
       "      <td>2.333</td>\n",
       "      <td>0.000</td>\n",
       "    </tr>\n",
       "    <tr>\n",
       "      <th>3</th>\n",
       "      <td>769911858</td>\n",
       "      <td>Existing Customer</td>\n",
       "      <td>40</td>\n",
       "      <td>F</td>\n",
       "      <td>4</td>\n",
       "      <td>High School</td>\n",
       "      <td>Unknown</td>\n",
       "      <td>Less than $40K</td>\n",
       "      <td>Blue</td>\n",
       "      <td>34</td>\n",
       "      <td>...</td>\n",
       "      <td>4</td>\n",
       "      <td>1</td>\n",
       "      <td>3313.0</td>\n",
       "      <td>2517</td>\n",
       "      <td>796.0</td>\n",
       "      <td>1.405</td>\n",
       "      <td>1171</td>\n",
       "      <td>20</td>\n",
       "      <td>2.333</td>\n",
       "      <td>0.760</td>\n",
       "    </tr>\n",
       "    <tr>\n",
       "      <th>4</th>\n",
       "      <td>709106358</td>\n",
       "      <td>Existing Customer</td>\n",
       "      <td>40</td>\n",
       "      <td>M</td>\n",
       "      <td>3</td>\n",
       "      <td>Uneducated</td>\n",
       "      <td>Married</td>\n",
       "      <td>$60K - $80K</td>\n",
       "      <td>Blue</td>\n",
       "      <td>21</td>\n",
       "      <td>...</td>\n",
       "      <td>1</td>\n",
       "      <td>0</td>\n",
       "      <td>4716.0</td>\n",
       "      <td>0</td>\n",
       "      <td>4716.0</td>\n",
       "      <td>2.175</td>\n",
       "      <td>816</td>\n",
       "      <td>28</td>\n",
       "      <td>2.500</td>\n",
       "      <td>0.000</td>\n",
       "    </tr>\n",
       "  </tbody>\n",
       "</table>\n",
       "<p>5 rows × 21 columns</p>\n",
       "</div>"
      ],
      "text/plain": [
       "    ClientID           Attrited  Age Gender  DependentCount EducationLevel  \\\n",
       "0  768805383  Existing Customer   45      M               3    High School   \n",
       "1  818770008  Existing Customer   49      F               5       Graduate   \n",
       "2  713982108  Existing Customer   51      M               3       Graduate   \n",
       "3  769911858  Existing Customer   40      F               4    High School   \n",
       "4  709106358  Existing Customer   40      M               3     Uneducated   \n",
       "\n",
       "  MaritalStatus  IncomeCategory CardCategory  RelationshipPeriod_InMonths  \\\n",
       "0       Married     $60K - $80K         Blue                           39   \n",
       "1        Single  Less than $40K         Blue                           44   \n",
       "2       Married    $80K - $120K         Blue                           36   \n",
       "3       Unknown  Less than $40K         Blue                           34   \n",
       "4       Married     $60K - $80K         Blue                           21   \n",
       "\n",
       "   ...  MonthsInactive_Last12Months  ContactNo_Last12Months  CreditLimit  \\\n",
       "0  ...                            1                       3      12691.0   \n",
       "1  ...                            1                       2       8256.0   \n",
       "2  ...                            1                       0       3418.0   \n",
       "3  ...                            4                       1       3313.0   \n",
       "4  ...                            1                       0       4716.0   \n",
       "\n",
       "   TotalRevolvingBalance_CC  OpenToBuyAve_Last12Months  \\\n",
       "0                       777                    11914.0   \n",
       "1                       864                     7392.0   \n",
       "2                         0                     3418.0   \n",
       "3                      2517                      796.0   \n",
       "4                         0                     4716.0   \n",
       "\n",
       "   TransactionAmount_ChangeQ4overQ1  TotalTransactionAmount_Last12Months  \\\n",
       "0                             1.335                                 1144   \n",
       "1                             1.541                                 1291   \n",
       "2                             2.594                                 1887   \n",
       "3                             1.405                                 1171   \n",
       "4                             2.175                                  816   \n",
       "\n",
       "   TotalTransactionCount_Last12Months  TransactionCount_ChangeQ4overQ1  \\\n",
       "0                                  42                            1.625   \n",
       "1                                  33                            3.714   \n",
       "2                                  20                            2.333   \n",
       "3                                  20                            2.333   \n",
       "4                                  28                            2.500   \n",
       "\n",
       "   AveCardUtilizationRatio  \n",
       "0                    0.061  \n",
       "1                    0.105  \n",
       "2                    0.000  \n",
       "3                    0.760  \n",
       "4                    0.000  \n",
       "\n",
       "[5 rows x 21 columns]"
      ]
     },
     "metadata": {},
     "output_type": "display_data"
    }
   ],
   "source": [
    "display(df.head())"
   ]
  },
  {
   "cell_type": "markdown",
   "metadata": {},
   "source": [
    "#### Explore data"
   ]
  },
  {
   "cell_type": "code",
   "execution_count": 9,
   "metadata": {},
   "outputs": [
    {
     "data": {
      "image/png": "[encoded data removed]",
      "text/plain": [
       "<Figure size 500x500 with 1 Axes>"
      ]
     },
     "metadata": {},
     "output_type": "display_data"
    }
   ],
   "source": [
    "sns.displot(df[\"Age\"], kde = True)\n",
    "plt.show()"
   ]
  },
  {
   "cell_type": "code",
   "execution_count": 10,
   "metadata": {},
   "outputs": [
    {
     "data": {
      "image/png": "[encoded data removed]",
      "text/plain": [
       "<Figure size 500x500 with 1 Axes>"
      ]
     },
     "metadata": {},
     "output_type": "display_data"
    }
   ],
   "source": [
    "sns.displot(df[\"EducationLevel\"])\n",
    "plt.xticks(rotation=85)\n",
    "plt.show()"
   ]
  },
  {
   "cell_type": "code",
   "execution_count": 11,
   "metadata": {},
   "outputs": [
    {
     "data": {
      "image/png": "[encoded data removed]",
      "text/plain": [
       "<Figure size 500x500 with 1 Axes>"
      ]
     },
     "metadata": {},
     "output_type": "display_data"
    }
   ],
   "source": [
    "sns.displot(df[\"MaritalStatus\"])\n",
    "plt.xticks(rotation=85)\n",
    "plt.show()"
   ]
  },
  {
   "cell_type": "code",
   "execution_count": 12,
   "metadata": {},
   "outputs": [
    {
     "data": {
      "image/png": "[encoded data removed]",
      "text/plain": [
       "<Figure size 500x500 with 1 Axes>"
      ]
     },
     "metadata": {},
     "output_type": "display_data"
    }
   ],
   "source": [
    "sns.displot(df[\"IncomeCategory\"])\n",
    "plt.xticks(rotation=70)\n",
    "plt.show()"
   ]
  },
  {
   "cell_type": "markdown",
   "metadata": {},
   "source": [
    "#### Map categorical values"
   ]
  },
  {
   "cell_type": "code",
   "execution_count": 13,
   "metadata": {},
   "outputs": [
    {
     "data": {
      "text/plain": [
       "array(['Existing Customer', 'Attrited Customer'], dtype=object)"
      ]
     },
     "metadata": {},
     "output_type": "display_data"
    },
    {
     "data": {
      "text/plain": [
       "array(['M', 'F'], dtype=object)"
      ]
     },
     "metadata": {},
     "output_type": "display_data"
    },
    {
     "data": {
      "text/plain": [
       "array(['High School', 'Graduate', 'Uneducated', 'Unknown', 'College',\n",
       "       'Post-Graduate', 'Doctorate'], dtype=object)"
      ]
     },
     "metadata": {},
     "output_type": "display_data"
    },
    {
     "data": {
      "text/plain": [
       "array(['Married', 'Single', 'Unknown', 'Divorced'], dtype=object)"
      ]
     },
     "metadata": {},
     "output_type": "display_data"
    },
    {
     "data": {
      "text/plain": [
       "array(['$60K - $80K', 'Less than $40K', '$80K - $120K', '$40K - $60K',\n",
       "       '$120K +', 'Unknown'], dtype=object)"
      ]
     },
     "metadata": {},
     "output_type": "display_data"
    },
    {
     "data": {
      "text/plain": [
       "array(['Blue', 'Gold', 'Silver', 'Platinum'], dtype=object)"
      ]
     },
     "metadata": {},
     "output_type": "display_data"
    }
   ],
   "source": [
    "categorical_values = [\n",
    "    'Attrited', 'Gender', 'EducationLevel', 'MaritalStatus', 'IncomeCategory', 'CardCategory'\n",
    "]\n",
    "for value in categorical_values:\n",
    "    display(df[value].unique())"
   ]
  },
  {
   "cell_type": "code",
   "execution_count": 14,
   "metadata": {},
   "outputs": [],
   "source": [
    "dAttrited = {'Existing Customer': 0, 'Attrited Customer': 1}\n",
    "dGender = {'M': 0, 'F': 1}\n",
    "dEducationLevel = {'Unknown': 0, 'Uneducated': 1, 'High School': 2, 'College': 3, \n",
    "                   'Graduate': 4, 'Post-Graduate': 5, 'Doctorate': 6}\n",
    "dMaritalStatus = {'Unknown': 0, 'Single': 1, 'Married': 2, 'Divorced': 3}\n",
    "dIncomeCategory = {'Unknown': 0, 'Less than $40K': 1, '$40K - $60K': 2, \n",
    "                   '$60K - $80K': 3, '$80K - $120K': 4, '$120K +': 5}\n",
    "dCardCategory = {'Blue': 1, 'Silver': 2, 'Gold': 3, 'Platinum': 4}"
   ]
  },
  {
   "cell_type": "code",
   "execution_count": 15,
   "metadata": {},
   "outputs": [
    {
     "data": {
      "text/html": [
       "<div>\n",
       "<style scoped>\n",
       "    .dataframe tbody tr th:only-of-type {\n",
       "        vertical-align: middle;\n",
       "    }\n",
       "\n",
       "    .dataframe tbody tr th {\n",
       "        vertical-align: top;\n",
       "    }\n",
       "\n",
       "    .dataframe thead th {\n",
       "        text-align: right;\n",
       "    }\n",
       "</style>\n",
       "<table border=\"1\" class=\"dataframe\">\n",
       "  <thead>\n",
       "    <tr style=\"text-align: right;\">\n",
       "      <th></th>\n",
       "      <th>ClientID</th>\n",
       "      <th>Attrited</th>\n",
       "      <th>Age</th>\n",
       "      <th>Gender</th>\n",
       "      <th>DependentCount</th>\n",
       "      <th>EducationLevel</th>\n",
       "      <th>MaritalStatus</th>\n",
       "      <th>IncomeCategory</th>\n",
       "      <th>CardCategory</th>\n",
       "      <th>RelationshipPeriod_InMonths</th>\n",
       "      <th>...</th>\n",
       "      <th>MonthsInactive_Last12Months</th>\n",
       "      <th>ContactNo_Last12Months</th>\n",
       "      <th>CreditLimit</th>\n",
       "      <th>TotalRevolvingBalance_CC</th>\n",
       "      <th>OpenToBuyAve_Last12Months</th>\n",
       "      <th>TransactionAmount_ChangeQ4overQ1</th>\n",
       "      <th>TotalTransactionAmount_Last12Months</th>\n",
       "      <th>TotalTransactionCount_Last12Months</th>\n",
       "      <th>TransactionCount_ChangeQ4overQ1</th>\n",
       "      <th>AveCardUtilizationRatio</th>\n",
       "    </tr>\n",
       "  </thead>\n",
       "  <tbody>\n",
       "    <tr>\n",
       "      <th>0</th>\n",
       "      <td>768805383</td>\n",
       "      <td>0</td>\n",
       "      <td>45</td>\n",
       "      <td>0</td>\n",
       "      <td>3</td>\n",
       "      <td>2</td>\n",
       "      <td>2</td>\n",
       "      <td>3</td>\n",
       "      <td>1</td>\n",
       "      <td>39</td>\n",
       "      <td>...</td>\n",
       "      <td>1</td>\n",
       "      <td>3</td>\n",
       "      <td>12691.0</td>\n",
       "      <td>777</td>\n",
       "      <td>11914.0</td>\n",
       "      <td>1.335</td>\n",
       "      <td>1144</td>\n",
       "      <td>42</td>\n",
       "      <td>1.625</td>\n",
       "      <td>0.061</td>\n",
       "    </tr>\n",
       "    <tr>\n",
       "      <th>1</th>\n",
       "      <td>818770008</td>\n",
       "      <td>0</td>\n",
       "      <td>49</td>\n",
       "      <td>1</td>\n",
       "      <td>5</td>\n",
       "      <td>4</td>\n",
       "      <td>1</td>\n",
       "      <td>1</td>\n",
       "      <td>1</td>\n",
       "      <td>44</td>\n",
       "      <td>...</td>\n",
       "      <td>1</td>\n",
       "      <td>2</td>\n",
       "      <td>8256.0</td>\n",
       "      <td>864</td>\n",
       "      <td>7392.0</td>\n",
       "      <td>1.541</td>\n",
       "      <td>1291</td>\n",
       "      <td>33</td>\n",
       "      <td>3.714</td>\n",
       "      <td>0.105</td>\n",
       "    </tr>\n",
       "    <tr>\n",
       "      <th>2</th>\n",
       "      <td>713982108</td>\n",
       "      <td>0</td>\n",
       "      <td>51</td>\n",
       "      <td>0</td>\n",
       "      <td>3</td>\n",
       "      <td>4</td>\n",
       "      <td>2</td>\n",
       "      <td>4</td>\n",
       "      <td>1</td>\n",
       "      <td>36</td>\n",
       "      <td>...</td>\n",
       "      <td>1</td>\n",
       "      <td>0</td>\n",
       "      <td>3418.0</td>\n",
       "      <td>0</td>\n",
       "      <td>3418.0</td>\n",
       "      <td>2.594</td>\n",
       "      <td>1887</td>\n",
       "      <td>20</td>\n",
       "      <td>2.333</td>\n",
       "      <td>0.000</td>\n",
       "    </tr>\n",
       "    <tr>\n",
       "      <th>3</th>\n",
       "      <td>769911858</td>\n",
       "      <td>0</td>\n",
       "      <td>40</td>\n",
       "      <td>1</td>\n",
       "      <td>4</td>\n",
       "      <td>2</td>\n",
       "      <td>0</td>\n",
       "      <td>1</td>\n",
       "      <td>1</td>\n",
       "      <td>34</td>\n",
       "      <td>...</td>\n",
       "      <td>4</td>\n",
       "      <td>1</td>\n",
       "      <td>3313.0</td>\n",
       "      <td>2517</td>\n",
       "      <td>796.0</td>\n",
       "      <td>1.405</td>\n",
       "      <td>1171</td>\n",
       "      <td>20</td>\n",
       "      <td>2.333</td>\n",
       "      <td>0.760</td>\n",
       "    </tr>\n",
       "    <tr>\n",
       "      <th>4</th>\n",
       "      <td>709106358</td>\n",
       "      <td>0</td>\n",
       "      <td>40</td>\n",
       "      <td>0</td>\n",
       "      <td>3</td>\n",
       "      <td>1</td>\n",
       "      <td>2</td>\n",
       "      <td>3</td>\n",
       "      <td>1</td>\n",
       "      <td>21</td>\n",
       "      <td>...</td>\n",
       "      <td>1</td>\n",
       "      <td>0</td>\n",
       "      <td>4716.0</td>\n",
       "      <td>0</td>\n",
       "      <td>4716.0</td>\n",
       "      <td>2.175</td>\n",
       "      <td>816</td>\n",
       "      <td>28</td>\n",
       "      <td>2.500</td>\n",
       "      <td>0.000</td>\n",
       "    </tr>\n",
       "  </tbody>\n",
       "</table>\n",
       "<p>5 rows × 21 columns</p>\n",
       "</div>"
      ],
      "text/plain": [
       "    ClientID  Attrited  Age  Gender  DependentCount  EducationLevel  \\\n",
       "0  768805383         0   45       0               3               2   \n",
       "1  818770008         0   49       1               5               4   \n",
       "2  713982108         0   51       0               3               4   \n",
       "3  769911858         0   40       1               4               2   \n",
       "4  709106358         0   40       0               3               1   \n",
       "\n",
       "   MaritalStatus  IncomeCategory  CardCategory  RelationshipPeriod_InMonths  \\\n",
       "0              2               3             1                           39   \n",
       "1              1               1             1                           44   \n",
       "2              2               4             1                           36   \n",
       "3              0               1             1                           34   \n",
       "4              2               3             1                           21   \n",
       "\n",
       "   ...  MonthsInactive_Last12Months  ContactNo_Last12Months  CreditLimit  \\\n",
       "0  ...                            1                       3      12691.0   \n",
       "1  ...                            1                       2       8256.0   \n",
       "2  ...                            1                       0       3418.0   \n",
       "3  ...                            4                       1       3313.0   \n",
       "4  ...                            1                       0       4716.0   \n",
       "\n",
       "   TotalRevolvingBalance_CC  OpenToBuyAve_Last12Months  \\\n",
       "0                       777                    11914.0   \n",
       "1                       864                     7392.0   \n",
       "2                         0                     3418.0   \n",
       "3                      2517                      796.0   \n",
       "4                         0                     4716.0   \n",
       "\n",
       "   TransactionAmount_ChangeQ4overQ1  TotalTransactionAmount_Last12Months  \\\n",
       "0                             1.335                                 1144   \n",
       "1                             1.541                                 1291   \n",
       "2                             2.594                                 1887   \n",
       "3                             1.405                                 1171   \n",
       "4                             2.175                                  816   \n",
       "\n",
       "   TotalTransactionCount_Last12Months  TransactionCount_ChangeQ4overQ1  \\\n",
       "0                                  42                            1.625   \n",
       "1                                  33                            3.714   \n",
       "2                                  20                            2.333   \n",
       "3                                  20                            2.333   \n",
       "4                                  28                            2.500   \n",
       "\n",
       "   AveCardUtilizationRatio  \n",
       "0                    0.061  \n",
       "1                    0.105  \n",
       "2                    0.000  \n",
       "3                    0.760  \n",
       "4                    0.000  \n",
       "\n",
       "[5 rows x 21 columns]"
      ]
     },
     "execution_count": 15,
     "metadata": {},
     "output_type": "execute_result"
    }
   ],
   "source": [
    "df[\"Attrited\"] = df[\"Attrited\"].apply(lambda x: dAttrited[x])\n",
    "df[\"Gender\"] = df[\"Gender\"].apply(lambda x: dGender[x])\n",
    "df[\"EducationLevel\"] = df[\"EducationLevel\"].apply(lambda x: dEducationLevel[x])\n",
    "df[\"MaritalStatus\"] = df[\"MaritalStatus\"].apply(lambda x: dMaritalStatus[x])\n",
    "df[\"IncomeCategory\"] = df[\"IncomeCategory\"].apply(lambda x: dIncomeCategory[x])\n",
    "df[\"CardCategory\"] = df[\"CardCategory\"].apply(lambda x: dCardCategory[x])\n",
    "df.head()"
   ]
  },
  {
   "cell_type": "code",
   "execution_count": 16,
   "metadata": {},
   "outputs": [
    {
     "data": {
      "text/plain": [
       "array([0, 1], dtype=int64)"
      ]
     },
     "metadata": {},
     "output_type": "display_data"
    },
    {
     "data": {
      "text/plain": [
       "array([0, 1], dtype=int64)"
      ]
     },
     "metadata": {},
     "output_type": "display_data"
    },
    {
     "data": {
      "text/plain": [
       "array([2, 4, 1, 0, 3, 5, 6], dtype=int64)"
      ]
     },
     "metadata": {},
     "output_type": "display_data"
    },
    {
     "data": {
      "text/plain": [
       "array([2, 1, 0, 3], dtype=int64)"
      ]
     },
     "metadata": {},
     "output_type": "display_data"
    },
    {
     "data": {
      "text/plain": [
       "array([3, 1, 4, 2, 5, 0], dtype=int64)"
      ]
     },
     "metadata": {},
     "output_type": "display_data"
    },
    {
     "data": {
      "text/plain": [
       "array([1, 3, 2, 4], dtype=int64)"
      ]
     },
     "metadata": {},
     "output_type": "display_data"
    }
   ],
   "source": [
    "for value in categorical_values:\n",
    "    display(df[value].unique())"
   ]
  },
  {
   "cell_type": "markdown",
   "metadata": {},
   "source": [
    "#### Set index"
   ]
  },
  {
   "cell_type": "code",
   "execution_count": 17,
   "metadata": {},
   "outputs": [],
   "source": [
    "df = df.set_index(\"ClientID\")"
   ]
  },
  {
   "cell_type": "markdown",
   "metadata": {},
   "source": [
    "#### Save cleaned and mapped CSV file"
   ]
  },
  {
   "cell_type": "code",
   "execution_count": 18,
   "metadata": {},
   "outputs": [],
   "source": [
    "df.to_csv(\"../data/BankChurners_CleanedMapped.csv\")"
   ]
  }
 ],
 "metadata": {
  "kernelspec": {
   "display_name": "_project_env",
   "language": "python",
   "name": "python3"
  },
  "language_info": {
   "codemirror_mode": {
    "name": "ipython",
    "version": 3
   },
   "file_extension": ".py",
   "mimetype": "text/x-python",
   "name": "python",
   "nbconvert_exporter": "python",
   "pygments_lexer": "ipython3",
   "version": "3.11.3"
  },
  "orig_nbformat": 4
 },
 "nbformat": 4,
 "nbformat_minor": 2
}
